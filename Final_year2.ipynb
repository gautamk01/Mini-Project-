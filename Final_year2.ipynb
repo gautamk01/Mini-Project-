{
 "cells": [
  {
   "cell_type": "code",
   "execution_count": 3,
   "metadata": {
    "id": "BC3sRFVxmFIE",
    "tags": []
   },
   "outputs": [],
   "source": [
    "import numpy as np\n",
    "import pandas as pd\n",
    "import matplotlib.pyplot as plt\n",
    "import seaborn as sns\n",
    "from sklearn.metrics import accuracy_score\n",
    "from sklearn.model_selection import train_test_split\n",
    "from sklearn.metrics import r2_score"
   ]
  },
  {
   "cell_type": "code",
   "execution_count": 42,
   "metadata": {
    "id": "hlslU9aZgrYO"
   },
   "outputs": [],
   "source": [
    "# from google.colab import drive\n",
    "# drive.mount('/content/drive')\n",
    "# nRowsRead = None\n",
    "# cattle_dataset=pd.read_csv('/content/drive/MyDrive/Colab Notebooks/datasets/synthetic cattle_dataset.csv', delimiter=',', nrows = nRowsRead)\n"
   ]
  },
  {
   "cell_type": "code",
   "execution_count": 43,
   "metadata": {
    "id": "DNpTs428mXNS"
   },
   "outputs": [],
   "source": [
    "# nRowsRead = None\n",
    "# cattle_dataset = pd.read_csv('/content/cattle_dataset.csv', delimiter=',', nrows = nRowsRead)"
   ]
  },
  {
   "cell_type": "code",
   "execution_count": 10,
   "metadata": {
    "id": "3c4mZc0QmFIG",
    "tags": []
   },
   "outputs": [],
   "source": [
    "cattle_dataset = pd.read_csv('cattle_dataset.csv')\n"
   ]
  },
  {
   "cell_type": "code",
   "execution_count": 11,
   "metadata": {
    "colab": {
     "base_uri": "https://localhost:8080/",
     "height": 313
    },
    "id": "R9DrtFKZmFIH",
    "outputId": "8403ee29-499e-4d94-8df4-be0264719316",
    "tags": []
   },
   "outputs": [
    {
     "data": {
      "text/html": [
       "<div>\n",
       "<style scoped>\n",
       "    .dataframe tbody tr th:only-of-type {\n",
       "        vertical-align: middle;\n",
       "    }\n",
       "\n",
       "    .dataframe tbody tr th {\n",
       "        vertical-align: top;\n",
       "    }\n",
       "\n",
       "    .dataframe thead th {\n",
       "        text-align: right;\n",
       "    }\n",
       "</style>\n",
       "<table border=\"1\" class=\"dataframe\">\n",
       "  <thead>\n",
       "    <tr style=\"text-align: right;\">\n",
       "      <th></th>\n",
       "      <th>body_temperature</th>\n",
       "      <th>breed_type</th>\n",
       "      <th>milk_production</th>\n",
       "      <th>respiratory_rate</th>\n",
       "      <th>walking_capacity</th>\n",
       "      <th>sleeping_duration</th>\n",
       "      <th>body_condition_score</th>\n",
       "      <th>heart_rate</th>\n",
       "      <th>eating_duration</th>\n",
       "      <th>lying_down_duration</th>\n",
       "      <th>ruminating</th>\n",
       "      <th>rumen_fill</th>\n",
       "      <th>faecal_consistency</th>\n",
       "      <th>health_status</th>\n",
       "    </tr>\n",
       "  </thead>\n",
       "  <tbody>\n",
       "    <tr>\n",
       "      <th>0</th>\n",
       "      <td>40.3</td>\n",
       "      <td>Cross Breed</td>\n",
       "      <td>10.1</td>\n",
       "      <td>19.0</td>\n",
       "      <td>5004.0</td>\n",
       "      <td>7.2</td>\n",
       "      <td>5.0</td>\n",
       "      <td>44.0</td>\n",
       "      <td>1.8</td>\n",
       "      <td>16.4</td>\n",
       "      <td>3.2</td>\n",
       "      <td>3.0</td>\n",
       "      <td>Fresh blood in faeces</td>\n",
       "      <td>unhealthy</td>\n",
       "    </tr>\n",
       "    <tr>\n",
       "      <th>1</th>\n",
       "      <td>38.6</td>\n",
       "      <td>Cross Breed</td>\n",
       "      <td>14.3</td>\n",
       "      <td>26.0</td>\n",
       "      <td>11678.0</td>\n",
       "      <td>3.7</td>\n",
       "      <td>2.0</td>\n",
       "      <td>57.0</td>\n",
       "      <td>2.3</td>\n",
       "      <td>14.0</td>\n",
       "      <td>4.5</td>\n",
       "      <td>2.0</td>\n",
       "      <td>Fresh blood in faeces</td>\n",
       "      <td>unhealthy</td>\n",
       "    </tr>\n",
       "    <tr>\n",
       "      <th>2</th>\n",
       "      <td>39.4</td>\n",
       "      <td>Cross Breed</td>\n",
       "      <td>13.2</td>\n",
       "      <td>14.0</td>\n",
       "      <td>5282.0</td>\n",
       "      <td>6.4</td>\n",
       "      <td>2.0</td>\n",
       "      <td>52.0</td>\n",
       "      <td>1.8</td>\n",
       "      <td>16.4</td>\n",
       "      <td>3.2</td>\n",
       "      <td>3.0</td>\n",
       "      <td>ideal</td>\n",
       "      <td>unhealthy</td>\n",
       "    </tr>\n",
       "    <tr>\n",
       "      <th>3</th>\n",
       "      <td>39.7</td>\n",
       "      <td>Cross Breed</td>\n",
       "      <td>12.1</td>\n",
       "      <td>31.0</td>\n",
       "      <td>5236.0</td>\n",
       "      <td>6.8</td>\n",
       "      <td>3.0</td>\n",
       "      <td>53.0</td>\n",
       "      <td>1.4</td>\n",
       "      <td>16.3</td>\n",
       "      <td>5.3</td>\n",
       "      <td>3.0</td>\n",
       "      <td>extremely firm</td>\n",
       "      <td>unhealthy</td>\n",
       "    </tr>\n",
       "    <tr>\n",
       "      <th>4</th>\n",
       "      <td>40.2</td>\n",
       "      <td>Cross Breed</td>\n",
       "      <td>6.7</td>\n",
       "      <td>23.0</td>\n",
       "      <td>5004.0</td>\n",
       "      <td>7.2</td>\n",
       "      <td>5.0</td>\n",
       "      <td>49.0</td>\n",
       "      <td>1.9</td>\n",
       "      <td>15.4</td>\n",
       "      <td>3.4</td>\n",
       "      <td>3.0</td>\n",
       "      <td>very liquid faeces</td>\n",
       "      <td>unhealthy</td>\n",
       "    </tr>\n",
       "  </tbody>\n",
       "</table>\n",
       "</div>"
      ],
      "text/plain": [
       "   body_temperature   breed_type  milk_production  respiratory_rate  \\\n",
       "0              40.3  Cross Breed             10.1              19.0   \n",
       "1              38.6  Cross Breed             14.3              26.0   \n",
       "2              39.4  Cross Breed             13.2              14.0   \n",
       "3              39.7  Cross Breed             12.1              31.0   \n",
       "4              40.2  Cross Breed              6.7              23.0   \n",
       "\n",
       "   walking_capacity  sleeping_duration  body_condition_score  heart_rate  \\\n",
       "0            5004.0                7.2                   5.0        44.0   \n",
       "1           11678.0                3.7                   2.0        57.0   \n",
       "2            5282.0                6.4                   2.0        52.0   \n",
       "3            5236.0                6.8                   3.0        53.0   \n",
       "4            5004.0                7.2                   5.0        49.0   \n",
       "\n",
       "   eating_duration  lying_down_duration  ruminating  rumen_fill  \\\n",
       "0              1.8                 16.4         3.2         3.0   \n",
       "1              2.3                 14.0         4.5         2.0   \n",
       "2              1.8                 16.4         3.2         3.0   \n",
       "3              1.4                 16.3         5.3         3.0   \n",
       "4              1.9                 15.4         3.4         3.0   \n",
       "\n",
       "      faecal_consistency health_status  \n",
       "0  Fresh blood in faeces     unhealthy  \n",
       "1  Fresh blood in faeces     unhealthy  \n",
       "2                  ideal     unhealthy  \n",
       "3         extremely firm     unhealthy  \n",
       "4     very liquid faeces     unhealthy  "
      ]
     },
     "execution_count": 11,
     "metadata": {},
     "output_type": "execute_result"
    }
   ],
   "source": [
    "cattle_dataset.head()"
   ]
  },
  {
   "cell_type": "code",
   "execution_count": 12,
   "metadata": {
    "colab": {
     "base_uri": "https://localhost:8080/"
    },
    "id": "1F5134OWmFIH",
    "outputId": "0b898aa2-ed3e-4475-f8ad-31d4e66193bf",
    "tags": []
   },
   "outputs": [
    {
     "data": {
      "text/plain": [
       "body_temperature        0\n",
       "breed_type              0\n",
       "milk_production         0\n",
       "respiratory_rate        0\n",
       "walking_capacity        0\n",
       "sleeping_duration       0\n",
       "body_condition_score    0\n",
       "heart_rate              0\n",
       "eating_duration         0\n",
       "lying_down_duration     0\n",
       "ruminating              0\n",
       "rumen_fill              0\n",
       "health_status           0\n",
       "dtype: int64"
      ]
     },
     "execution_count": 12,
     "metadata": {},
     "output_type": "execute_result"
    }
   ],
   "source": [
    "cattle_dataset = cattle_dataset.drop('faecal_consistency', axis=1)\n",
    "cattle_dataset.dropna(inplace=True)\n",
    "\n",
    "cattle_dataset.isnull().sum()\n"
   ]
  },
  {
   "cell_type": "code",
   "execution_count": 7,
   "metadata": {
    "id": "371D3yb7mFII",
    "tags": []
   },
   "outputs": [],
   "source": [
    "# for column in cattle_dataset.columns:\n",
    "#     plt.hist(cattle_dataset[column])\n",
    "#     plt.xlabel(column)\n",
    "#     plt.ylabel('Frequency')\n",
    "#     plt.title(f'Histogram of {column}')\n",
    "#     plt.show()"
   ]
  },
  {
   "cell_type": "markdown",
   "metadata": {
    "id": "-NFocPQtmFII"
   },
   "source": [
    "#### correlation matrix"
   ]
  },
  {
   "cell_type": "code",
   "execution_count": 13,
   "metadata": {
    "colab": {
     "base_uri": "https://localhost:8080/",
     "height": 643
    },
    "id": "MoqnaV-nmFIJ",
    "outputId": "98c4919a-a421-46cb-ef16-9f888934ec2f",
    "tags": []
   },
   "outputs": [
    {
     "ename": "ValueError",
     "evalue": "could not convert string to float: 'Cross Breed'",
     "output_type": "error",
     "traceback": [
      "\u001b[1;31m---------------------------------------------------------------------------\u001b[0m",
      "\u001b[1;31mValueError\u001b[0m                                Traceback (most recent call last)",
      "Cell \u001b[1;32mIn[13], line 2\u001b[0m\n\u001b[0;32m      1\u001b[0m \u001b[38;5;66;03m# Calculate the correlation matrix\u001b[39;00m\n\u001b[1;32m----> 2\u001b[0m correlation \u001b[38;5;241m=\u001b[39m \u001b[43mcattle_dataset\u001b[49m\u001b[38;5;241;43m.\u001b[39;49m\u001b[43mcorr\u001b[49m\u001b[43m(\u001b[49m\u001b[43m)\u001b[49m\n\u001b[0;32m      4\u001b[0m \u001b[38;5;66;03m# Plot the correlation matrix as a heatmap\u001b[39;00m\n\u001b[0;32m      5\u001b[0m sns\u001b[38;5;241m.\u001b[39mheatmap(correlation, annot\u001b[38;5;241m=\u001b[39m\u001b[38;5;28;01mTrue\u001b[39;00m, cmap\u001b[38;5;241m=\u001b[39m\u001b[38;5;124m'\u001b[39m\u001b[38;5;124mcoolwarm\u001b[39m\u001b[38;5;124m'\u001b[39m)\n",
      "File \u001b[1;32mD:\\ML\\timer\\Lib\\site-packages\\pandas\\core\\frame.py:10704\u001b[0m, in \u001b[0;36mDataFrame.corr\u001b[1;34m(self, method, min_periods, numeric_only)\u001b[0m\n\u001b[0;32m  10702\u001b[0m cols \u001b[38;5;241m=\u001b[39m data\u001b[38;5;241m.\u001b[39mcolumns\n\u001b[0;32m  10703\u001b[0m idx \u001b[38;5;241m=\u001b[39m cols\u001b[38;5;241m.\u001b[39mcopy()\n\u001b[1;32m> 10704\u001b[0m mat \u001b[38;5;241m=\u001b[39m \u001b[43mdata\u001b[49m\u001b[38;5;241;43m.\u001b[39;49m\u001b[43mto_numpy\u001b[49m\u001b[43m(\u001b[49m\u001b[43mdtype\u001b[49m\u001b[38;5;241;43m=\u001b[39;49m\u001b[38;5;28;43mfloat\u001b[39;49m\u001b[43m,\u001b[49m\u001b[43m \u001b[49m\u001b[43mna_value\u001b[49m\u001b[38;5;241;43m=\u001b[39;49m\u001b[43mnp\u001b[49m\u001b[38;5;241;43m.\u001b[39;49m\u001b[43mnan\u001b[49m\u001b[43m,\u001b[49m\u001b[43m \u001b[49m\u001b[43mcopy\u001b[49m\u001b[38;5;241;43m=\u001b[39;49m\u001b[38;5;28;43;01mFalse\u001b[39;49;00m\u001b[43m)\u001b[49m\n\u001b[0;32m  10706\u001b[0m \u001b[38;5;28;01mif\u001b[39;00m method \u001b[38;5;241m==\u001b[39m \u001b[38;5;124m\"\u001b[39m\u001b[38;5;124mpearson\u001b[39m\u001b[38;5;124m\"\u001b[39m:\n\u001b[0;32m  10707\u001b[0m     correl \u001b[38;5;241m=\u001b[39m libalgos\u001b[38;5;241m.\u001b[39mnancorr(mat, minp\u001b[38;5;241m=\u001b[39mmin_periods)\n",
      "File \u001b[1;32mD:\\ML\\timer\\Lib\\site-packages\\pandas\\core\\frame.py:1889\u001b[0m, in \u001b[0;36mDataFrame.to_numpy\u001b[1;34m(self, dtype, copy, na_value)\u001b[0m\n\u001b[0;32m   1887\u001b[0m \u001b[38;5;28;01mif\u001b[39;00m dtype \u001b[38;5;129;01mis\u001b[39;00m \u001b[38;5;129;01mnot\u001b[39;00m \u001b[38;5;28;01mNone\u001b[39;00m:\n\u001b[0;32m   1888\u001b[0m     dtype \u001b[38;5;241m=\u001b[39m np\u001b[38;5;241m.\u001b[39mdtype(dtype)\n\u001b[1;32m-> 1889\u001b[0m result \u001b[38;5;241m=\u001b[39m \u001b[38;5;28;43mself\u001b[39;49m\u001b[38;5;241;43m.\u001b[39;49m\u001b[43m_mgr\u001b[49m\u001b[38;5;241;43m.\u001b[39;49m\u001b[43mas_array\u001b[49m\u001b[43m(\u001b[49m\u001b[43mdtype\u001b[49m\u001b[38;5;241;43m=\u001b[39;49m\u001b[43mdtype\u001b[49m\u001b[43m,\u001b[49m\u001b[43m \u001b[49m\u001b[43mcopy\u001b[49m\u001b[38;5;241;43m=\u001b[39;49m\u001b[43mcopy\u001b[49m\u001b[43m,\u001b[49m\u001b[43m \u001b[49m\u001b[43mna_value\u001b[49m\u001b[38;5;241;43m=\u001b[39;49m\u001b[43mna_value\u001b[49m\u001b[43m)\u001b[49m\n\u001b[0;32m   1890\u001b[0m \u001b[38;5;28;01mif\u001b[39;00m result\u001b[38;5;241m.\u001b[39mdtype \u001b[38;5;129;01mis\u001b[39;00m \u001b[38;5;129;01mnot\u001b[39;00m dtype:\n\u001b[0;32m   1891\u001b[0m     result \u001b[38;5;241m=\u001b[39m np\u001b[38;5;241m.\u001b[39marray(result, dtype\u001b[38;5;241m=\u001b[39mdtype, copy\u001b[38;5;241m=\u001b[39m\u001b[38;5;28;01mFalse\u001b[39;00m)\n",
      "File \u001b[1;32mD:\\ML\\timer\\Lib\\site-packages\\pandas\\core\\internals\\managers.py:1656\u001b[0m, in \u001b[0;36mBlockManager.as_array\u001b[1;34m(self, dtype, copy, na_value)\u001b[0m\n\u001b[0;32m   1654\u001b[0m         arr\u001b[38;5;241m.\u001b[39mflags\u001b[38;5;241m.\u001b[39mwriteable \u001b[38;5;241m=\u001b[39m \u001b[38;5;28;01mFalse\u001b[39;00m\n\u001b[0;32m   1655\u001b[0m \u001b[38;5;28;01melse\u001b[39;00m:\n\u001b[1;32m-> 1656\u001b[0m     arr \u001b[38;5;241m=\u001b[39m \u001b[38;5;28;43mself\u001b[39;49m\u001b[38;5;241;43m.\u001b[39;49m\u001b[43m_interleave\u001b[49m\u001b[43m(\u001b[49m\u001b[43mdtype\u001b[49m\u001b[38;5;241;43m=\u001b[39;49m\u001b[43mdtype\u001b[49m\u001b[43m,\u001b[49m\u001b[43m \u001b[49m\u001b[43mna_value\u001b[49m\u001b[38;5;241;43m=\u001b[39;49m\u001b[43mna_value\u001b[49m\u001b[43m)\u001b[49m\n\u001b[0;32m   1657\u001b[0m     \u001b[38;5;66;03m# The underlying data was copied within _interleave, so no need\u001b[39;00m\n\u001b[0;32m   1658\u001b[0m     \u001b[38;5;66;03m# to further copy if copy=True or setting na_value\u001b[39;00m\n\u001b[0;32m   1660\u001b[0m \u001b[38;5;28;01mif\u001b[39;00m na_value \u001b[38;5;129;01mis\u001b[39;00m lib\u001b[38;5;241m.\u001b[39mno_default:\n",
      "File \u001b[1;32mD:\\ML\\timer\\Lib\\site-packages\\pandas\\core\\internals\\managers.py:1715\u001b[0m, in \u001b[0;36mBlockManager._interleave\u001b[1;34m(self, dtype, na_value)\u001b[0m\n\u001b[0;32m   1713\u001b[0m     \u001b[38;5;28;01melse\u001b[39;00m:\n\u001b[0;32m   1714\u001b[0m         arr \u001b[38;5;241m=\u001b[39m blk\u001b[38;5;241m.\u001b[39mget_values(dtype)\n\u001b[1;32m-> 1715\u001b[0m     \u001b[43mresult\u001b[49m\u001b[43m[\u001b[49m\u001b[43mrl\u001b[49m\u001b[38;5;241;43m.\u001b[39;49m\u001b[43mindexer\u001b[49m\u001b[43m]\u001b[49m \u001b[38;5;241m=\u001b[39m arr\n\u001b[0;32m   1716\u001b[0m     itemmask[rl\u001b[38;5;241m.\u001b[39mindexer] \u001b[38;5;241m=\u001b[39m \u001b[38;5;241m1\u001b[39m\n\u001b[0;32m   1718\u001b[0m \u001b[38;5;28;01mif\u001b[39;00m \u001b[38;5;129;01mnot\u001b[39;00m itemmask\u001b[38;5;241m.\u001b[39mall():\n",
      "\u001b[1;31mValueError\u001b[0m: could not convert string to float: 'Cross Breed'"
     ]
    }
   ],
   "source": [
    "\n",
    "# Calculate the correlation matrix\n",
    "correlation = cattle_dataset.corr()\n",
    "\n",
    "# Plot the correlation matrix as a heatmap\n",
    "sns.heatmap(correlation, annot=True, cmap='coolwarm')\n",
    "plt.title('Correlation Heatmap')\n",
    "plt.show()\n",
    "\n"
   ]
  },
  {
   "cell_type": "code",
   "execution_count": 14,
   "metadata": {
    "id": "KVwOFQWJmFIJ",
    "tags": []
   },
   "outputs": [],
   "source": [
    "X = cattle_dataset.drop('health_status', axis=1)\n",
    "y = cattle_dataset['health_status']\n"
   ]
  },
  {
   "cell_type": "code",
   "execution_count": 15,
   "metadata": {
    "colab": {
     "base_uri": "https://localhost:8080/"
    },
    "id": "_23oiwB7mFIK",
    "outputId": "ae7a33ce-b950-4b2f-e247-659bb8780f28",
    "tags": []
   },
   "outputs": [
    {
     "name": "stdout",
     "output_type": "stream",
     "text": [
      "Total number of rows: 5000\n"
     ]
    }
   ],
   "source": [
    "print(\"Total number of rows:\", cattle_dataset.shape[0])\n",
    "\n"
   ]
  },
  {
   "cell_type": "code",
   "execution_count": 16,
   "metadata": {
    "id": "8SQo0K4UmFIK",
    "tags": []
   },
   "outputs": [],
   "source": [
    "X_train, X_test, y_train, y_test = train_test_split(X, y, test_size=0.2, random_state=42)"
   ]
  },
  {
   "cell_type": "code",
   "execution_count": 17,
   "metadata": {
    "colab": {
     "base_uri": "https://localhost:8080/",
     "height": 313
    },
    "id": "7OtfiUnwmFIL",
    "outputId": "0d3c86d5-157b-47e8-ab71-8514559161cd",
    "tags": []
   },
   "outputs": [
    {
     "data": {
      "text/html": [
       "<div>\n",
       "<style scoped>\n",
       "    .dataframe tbody tr th:only-of-type {\n",
       "        vertical-align: middle;\n",
       "    }\n",
       "\n",
       "    .dataframe tbody tr th {\n",
       "        vertical-align: top;\n",
       "    }\n",
       "\n",
       "    .dataframe thead th {\n",
       "        text-align: right;\n",
       "    }\n",
       "</style>\n",
       "<table border=\"1\" class=\"dataframe\">\n",
       "  <thead>\n",
       "    <tr style=\"text-align: right;\">\n",
       "      <th></th>\n",
       "      <th>body_temperature</th>\n",
       "      <th>breed_type</th>\n",
       "      <th>milk_production</th>\n",
       "      <th>respiratory_rate</th>\n",
       "      <th>walking_capacity</th>\n",
       "      <th>sleeping_duration</th>\n",
       "      <th>body_condition_score</th>\n",
       "      <th>heart_rate</th>\n",
       "      <th>eating_duration</th>\n",
       "      <th>lying_down_duration</th>\n",
       "      <th>ruminating</th>\n",
       "      <th>rumen_fill</th>\n",
       "    </tr>\n",
       "  </thead>\n",
       "  <tbody>\n",
       "    <tr>\n",
       "      <th>1501</th>\n",
       "      <td>38.4</td>\n",
       "      <td>Normal Breed</td>\n",
       "      <td>8.5</td>\n",
       "      <td>46.0</td>\n",
       "      <td>10773.0</td>\n",
       "      <td>3.7</td>\n",
       "      <td>5.0</td>\n",
       "      <td>68.0</td>\n",
       "      <td>2.0</td>\n",
       "      <td>14.4</td>\n",
       "      <td>5.1</td>\n",
       "      <td>3.0</td>\n",
       "    </tr>\n",
       "    <tr>\n",
       "      <th>2586</th>\n",
       "      <td>39.9</td>\n",
       "      <td>Cross Breed</td>\n",
       "      <td>5.1</td>\n",
       "      <td>24.0</td>\n",
       "      <td>5004.0</td>\n",
       "      <td>7.2</td>\n",
       "      <td>3.0</td>\n",
       "      <td>50.0</td>\n",
       "      <td>1.3</td>\n",
       "      <td>16.4</td>\n",
       "      <td>3.1</td>\n",
       "      <td>1.0</td>\n",
       "    </tr>\n",
       "    <tr>\n",
       "      <th>2653</th>\n",
       "      <td>40.3</td>\n",
       "      <td>Normal Breed</td>\n",
       "      <td>5.1</td>\n",
       "      <td>15.0</td>\n",
       "      <td>5004.0</td>\n",
       "      <td>7.2</td>\n",
       "      <td>2.0</td>\n",
       "      <td>48.0</td>\n",
       "      <td>1.3</td>\n",
       "      <td>16.4</td>\n",
       "      <td>3.2</td>\n",
       "      <td>3.0</td>\n",
       "    </tr>\n",
       "    <tr>\n",
       "      <th>1055</th>\n",
       "      <td>39.5</td>\n",
       "      <td>Normal Breed</td>\n",
       "      <td>14.7</td>\n",
       "      <td>14.0</td>\n",
       "      <td>5004.0</td>\n",
       "      <td>6.5</td>\n",
       "      <td>2.0</td>\n",
       "      <td>49.0</td>\n",
       "      <td>1.3</td>\n",
       "      <td>15.9</td>\n",
       "      <td>4.5</td>\n",
       "      <td>2.0</td>\n",
       "    </tr>\n",
       "    <tr>\n",
       "      <th>705</th>\n",
       "      <td>39.9</td>\n",
       "      <td>Normal Breed</td>\n",
       "      <td>9.7</td>\n",
       "      <td>20.0</td>\n",
       "      <td>5004.0</td>\n",
       "      <td>6.6</td>\n",
       "      <td>2.0</td>\n",
       "      <td>55.0</td>\n",
       "      <td>1.3</td>\n",
       "      <td>16.4</td>\n",
       "      <td>4.7</td>\n",
       "      <td>2.0</td>\n",
       "    </tr>\n",
       "  </tbody>\n",
       "</table>\n",
       "</div>"
      ],
      "text/plain": [
       "      body_temperature    breed_type  milk_production  respiratory_rate  \\\n",
       "1501              38.4  Normal Breed              8.5              46.0   \n",
       "2586              39.9   Cross Breed              5.1              24.0   \n",
       "2653              40.3  Normal Breed              5.1              15.0   \n",
       "1055              39.5  Normal Breed             14.7              14.0   \n",
       "705               39.9  Normal Breed              9.7              20.0   \n",
       "\n",
       "      walking_capacity  sleeping_duration  body_condition_score  heart_rate  \\\n",
       "1501           10773.0                3.7                   5.0        68.0   \n",
       "2586            5004.0                7.2                   3.0        50.0   \n",
       "2653            5004.0                7.2                   2.0        48.0   \n",
       "1055            5004.0                6.5                   2.0        49.0   \n",
       "705             5004.0                6.6                   2.0        55.0   \n",
       "\n",
       "      eating_duration  lying_down_duration  ruminating  rumen_fill  \n",
       "1501              2.0                 14.4         5.1         3.0  \n",
       "2586              1.3                 16.4         3.1         1.0  \n",
       "2653              1.3                 16.4         3.2         3.0  \n",
       "1055              1.3                 15.9         4.5         2.0  \n",
       "705               1.3                 16.4         4.7         2.0  "
      ]
     },
     "execution_count": 17,
     "metadata": {},
     "output_type": "execute_result"
    }
   ],
   "source": [
    "X_test.head()"
   ]
  },
  {
   "cell_type": "code",
   "execution_count": 18,
   "metadata": {
    "id": "-eX7m_GcmFIL",
    "tags": []
   },
   "outputs": [],
   "source": [
    "y_train = y_train.replace({'healthy': 1, 'unhealthy': 0})\n",
    "y_test = y_test.replace({'healthy': 1, 'unhealthy': 0})"
   ]
  },
  {
   "cell_type": "code",
   "execution_count": null,
   "metadata": {
    "id": "QOA6aWcBmFIL"
   },
   "outputs": [],
   "source": []
  },
  {
   "cell_type": "code",
   "execution_count": 19,
   "metadata": {
    "colab": {
     "base_uri": "https://localhost:8080/"
    },
    "id": "qhcaBcL0mFIL",
    "outputId": "f271a0e5-d497-4d59-c65c-a9733f494b1e",
    "tags": []
   },
   "outputs": [
    {
     "name": "stdout",
     "output_type": "stream",
     "text": [
      "Training set shape: (4000,)\n",
      "Testing set shape: (1000,)\n"
     ]
    }
   ],
   "source": [
    "print(\"Training set shape:\", y_train.shape)\n",
    "print(\"Testing set shape:\", y_test.shape)\n"
   ]
  },
  {
   "cell_type": "code",
   "execution_count": 20,
   "metadata": {
    "id": "xx0UZyG0mFIL",
    "tags": []
   },
   "outputs": [],
   "source": [
    "X_train = X_train.drop('breed_type', axis=1)\n",
    "X_test = X_test.drop('breed_type', axis=1)"
   ]
  },
  {
   "cell_type": "markdown",
   "metadata": {
    "id": "ycytuxHNmFIL"
   },
   "source": [
    "### linear regression"
   ]
  },
  {
   "cell_type": "code",
   "execution_count": 21,
   "metadata": {
    "colab": {
     "base_uri": "https://localhost:8080/"
    },
    "id": "Vp7Ur7rXmFIL",
    "outputId": "efab1f64-8fa2-4669-c920-bbc072b940b9",
    "tags": []
   },
   "outputs": [
    {
     "name": "stdout",
     "output_type": "stream",
     "text": [
      "Performance score: 0.5635398692117914\n"
     ]
    }
   ],
   "source": [
    "from sklearn.linear_model import LinearRegression\n",
    "\n",
    "\n",
    "# Create a linear regression model\n",
    "model = LinearRegression()\n",
    "\n",
    "# Train the model\n",
    "model.fit(X_train, y_train)\n",
    "\n",
    "# Make predictions on the test set\n",
    "y_pred = model.predict(X_test)\n",
    "\n",
    "# Calculate the performance score (R-squared)\n",
    "linr_score = r2_score(y_test, y_pred)\n",
    "\n",
    "# Print the performance score\n",
    "print(\"Performance score:\", linr_score)\n"
   ]
  },
  {
   "cell_type": "markdown",
   "metadata": {
    "id": "qbCVguoWmFIM"
   },
   "source": [
    "### logistic regression"
   ]
  },
  {
   "cell_type": "code",
   "execution_count": 22,
   "metadata": {
    "colab": {
     "base_uri": "https://localhost:8080/"
    },
    "id": "mD9v2t0TmFIM",
    "outputId": "476c9cd1-2280-4657-b1b2-5cd0ea4b6bce",
    "tags": []
   },
   "outputs": [
    {
     "name": "stdout",
     "output_type": "stream",
     "text": [
      "Performance score: 0.852\n"
     ]
    },
    {
     "name": "stderr",
     "output_type": "stream",
     "text": [
      "D:\\ML\\timer\\Lib\\site-packages\\sklearn\\linear_model\\_logistic.py:460: ConvergenceWarning: lbfgs failed to converge (status=1):\n",
      "STOP: TOTAL NO. of ITERATIONS REACHED LIMIT.\n",
      "\n",
      "Increase the number of iterations (max_iter) or scale the data as shown in:\n",
      "    https://scikit-learn.org/stable/modules/preprocessing.html\n",
      "Please also refer to the documentation for alternative solver options:\n",
      "    https://scikit-learn.org/stable/modules/linear_model.html#logistic-regression\n",
      "  n_iter_i = _check_optimize_result(\n"
     ]
    }
   ],
   "source": [
    "from sklearn.linear_model import LogisticRegression\n",
    "\n",
    "\n",
    "# Create a logistic regression model\n",
    "logreg = LogisticRegression()\n",
    "\n",
    "# Train the model\n",
    "logreg.fit(X_train, y_train)\n",
    "\n",
    "# Make predictions on the test set\n",
    "y_pred = logreg.predict(X_test)\n",
    "\n",
    "# Calculate the performance score (accuracy)\n",
    "logr_score = accuracy_score(y_test, y_pred)\n",
    "\n",
    "# Print the performance score\n",
    "print(\"Performance score:\", logr_score)\n"
   ]
  },
  {
   "cell_type": "markdown",
   "metadata": {
    "id": "hgUZXeNtmFIM"
   },
   "source": [
    "### Decision Tree Classifer"
   ]
  },
  {
   "cell_type": "code",
   "execution_count": 23,
   "metadata": {
    "colab": {
     "base_uri": "https://localhost:8080/"
    },
    "id": "WVQtl4s9mFIM",
    "outputId": "84255438-8236-4a8b-cd93-1f6a77805d1c",
    "tags": []
   },
   "outputs": [
    {
     "name": "stdout",
     "output_type": "stream",
     "text": [
      "Performance score: 0.787\n"
     ]
    }
   ],
   "source": [
    "from sklearn.tree import DecisionTreeClassifier\n",
    "\n",
    "\n",
    "# Create a Decision Tree classifier\n",
    "dt = DecisionTreeClassifier()\n",
    "\n",
    "# Train the model\n",
    "dt.fit(X_train, y_train)\n",
    "\n",
    "# Make predictions on the test set\n",
    "y_pred = dt.predict(X_test)\n",
    "\n",
    "# Calculate the performance score (accuracy)\n",
    "dtc_score = accuracy_score(y_test, y_pred)\n",
    "\n",
    "# Print the performance score\n",
    "print(\"Performance score:\", dtc_score)\n"
   ]
  },
  {
   "cell_type": "markdown",
   "metadata": {
    "id": "TgfViKg9mFIM"
   },
   "source": [
    "### Random Forest classifier"
   ]
  },
  {
   "cell_type": "code",
   "execution_count": 24,
   "metadata": {
    "colab": {
     "base_uri": "https://localhost:8080/"
    },
    "id": "yYesOduVmFIM",
    "outputId": "c1808280-04ec-4313-ddc4-fd4f0f8afc60",
    "tags": []
   },
   "outputs": [
    {
     "name": "stdout",
     "output_type": "stream",
     "text": [
      "Performance score: 0.844\n"
     ]
    }
   ],
   "source": [
    "from sklearn.ensemble import RandomForestClassifier\n",
    "\n",
    "\n",
    "# Create a Random Forest classifier\n",
    "rf = RandomForestClassifier()\n",
    "\n",
    "# Train the model\n",
    "rf.fit(X_train, y_train)\n",
    "\n",
    "# Make predictions on the test set\n",
    "y_pred = rf.predict(X_test)\n",
    "\n",
    "# Calculate the performance score (accuracy)\n",
    "rf_score = accuracy_score(y_test, y_pred)\n",
    "\n",
    "# Print the performance score\n",
    "print(\"Performance score:\", rf_score)\n"
   ]
  },
  {
   "cell_type": "code",
   "execution_count": 25,
   "metadata": {
    "colab": {
     "base_uri": "https://localhost:8080/",
     "height": 226
    },
    "id": "xcBDgWL31QXx",
    "outputId": "0626ddfa-80e2-4815-e68d-37e84c98fe28",
    "tags": []
   },
   "outputs": [
    {
     "data": {
      "text/html": [
       "<div>\n",
       "<style scoped>\n",
       "    .dataframe tbody tr th:only-of-type {\n",
       "        vertical-align: middle;\n",
       "    }\n",
       "\n",
       "    .dataframe tbody tr th {\n",
       "        vertical-align: top;\n",
       "    }\n",
       "\n",
       "    .dataframe thead th {\n",
       "        text-align: right;\n",
       "    }\n",
       "</style>\n",
       "<table border=\"1\" class=\"dataframe\">\n",
       "  <thead>\n",
       "    <tr style=\"text-align: right;\">\n",
       "      <th></th>\n",
       "      <th>body_temperature</th>\n",
       "      <th>milk_production</th>\n",
       "      <th>respiratory_rate</th>\n",
       "      <th>walking_capacity</th>\n",
       "      <th>sleeping_duration</th>\n",
       "      <th>body_condition_score</th>\n",
       "      <th>heart_rate</th>\n",
       "      <th>eating_duration</th>\n",
       "      <th>lying_down_duration</th>\n",
       "      <th>ruminating</th>\n",
       "      <th>rumen_fill</th>\n",
       "    </tr>\n",
       "  </thead>\n",
       "  <tbody>\n",
       "    <tr>\n",
       "      <th>1501</th>\n",
       "      <td>38.4</td>\n",
       "      <td>8.5</td>\n",
       "      <td>46.0</td>\n",
       "      <td>10773.0</td>\n",
       "      <td>3.7</td>\n",
       "      <td>5.0</td>\n",
       "      <td>68.0</td>\n",
       "      <td>2.0</td>\n",
       "      <td>14.4</td>\n",
       "      <td>5.1</td>\n",
       "      <td>3.0</td>\n",
       "    </tr>\n",
       "    <tr>\n",
       "      <th>2586</th>\n",
       "      <td>39.9</td>\n",
       "      <td>5.1</td>\n",
       "      <td>24.0</td>\n",
       "      <td>5004.0</td>\n",
       "      <td>7.2</td>\n",
       "      <td>3.0</td>\n",
       "      <td>50.0</td>\n",
       "      <td>1.3</td>\n",
       "      <td>16.4</td>\n",
       "      <td>3.1</td>\n",
       "      <td>1.0</td>\n",
       "    </tr>\n",
       "    <tr>\n",
       "      <th>2653</th>\n",
       "      <td>40.3</td>\n",
       "      <td>5.1</td>\n",
       "      <td>15.0</td>\n",
       "      <td>5004.0</td>\n",
       "      <td>7.2</td>\n",
       "      <td>2.0</td>\n",
       "      <td>48.0</td>\n",
       "      <td>1.3</td>\n",
       "      <td>16.4</td>\n",
       "      <td>3.2</td>\n",
       "      <td>3.0</td>\n",
       "    </tr>\n",
       "    <tr>\n",
       "      <th>1055</th>\n",
       "      <td>39.5</td>\n",
       "      <td>14.7</td>\n",
       "      <td>14.0</td>\n",
       "      <td>5004.0</td>\n",
       "      <td>6.5</td>\n",
       "      <td>2.0</td>\n",
       "      <td>49.0</td>\n",
       "      <td>1.3</td>\n",
       "      <td>15.9</td>\n",
       "      <td>4.5</td>\n",
       "      <td>2.0</td>\n",
       "    </tr>\n",
       "    <tr>\n",
       "      <th>705</th>\n",
       "      <td>39.9</td>\n",
       "      <td>9.7</td>\n",
       "      <td>20.0</td>\n",
       "      <td>5004.0</td>\n",
       "      <td>6.6</td>\n",
       "      <td>2.0</td>\n",
       "      <td>55.0</td>\n",
       "      <td>1.3</td>\n",
       "      <td>16.4</td>\n",
       "      <td>4.7</td>\n",
       "      <td>2.0</td>\n",
       "    </tr>\n",
       "  </tbody>\n",
       "</table>\n",
       "</div>"
      ],
      "text/plain": [
       "      body_temperature  milk_production  respiratory_rate  walking_capacity  \\\n",
       "1501              38.4              8.5              46.0           10773.0   \n",
       "2586              39.9              5.1              24.0            5004.0   \n",
       "2653              40.3              5.1              15.0            5004.0   \n",
       "1055              39.5             14.7              14.0            5004.0   \n",
       "705               39.9              9.7              20.0            5004.0   \n",
       "\n",
       "      sleeping_duration  body_condition_score  heart_rate  eating_duration  \\\n",
       "1501                3.7                   5.0        68.0              2.0   \n",
       "2586                7.2                   3.0        50.0              1.3   \n",
       "2653                7.2                   2.0        48.0              1.3   \n",
       "1055                6.5                   2.0        49.0              1.3   \n",
       "705                 6.6                   2.0        55.0              1.3   \n",
       "\n",
       "      lying_down_duration  ruminating  rumen_fill  \n",
       "1501                 14.4         5.1         3.0  \n",
       "2586                 16.4         3.1         1.0  \n",
       "2653                 16.4         3.2         3.0  \n",
       "1055                 15.9         4.5         2.0  \n",
       "705                  16.4         4.7         2.0  "
      ]
     },
     "execution_count": 25,
     "metadata": {},
     "output_type": "execute_result"
    }
   ],
   "source": [
    "X_test.head()"
   ]
  },
  {
   "cell_type": "markdown",
   "metadata": {
    "id": "7bGuljZlmFIN"
   },
   "source": [
    "### SVM"
   ]
  },
  {
   "cell_type": "code",
   "execution_count": 26,
   "metadata": {
    "colab": {
     "base_uri": "https://localhost:8080/"
    },
    "id": "4xvgX2FUmFIN",
    "outputId": "303fa40f-5625-44d8-9cd5-d56e5e60b744",
    "tags": []
   },
   "outputs": [
    {
     "name": "stdout",
     "output_type": "stream",
     "text": [
      "Performance score: 0.834\n"
     ]
    }
   ],
   "source": [
    "from sklearn.svm import SVC\n",
    "\n",
    "\n",
    "# Create an SVM classifier\n",
    "svm = SVC()\n",
    "\n",
    "# Train the model\n",
    "svm.fit(X_train, y_train)\n",
    "\n",
    "# Make predictions on the test set\n",
    "y_pred = svm.predict(X_test)\n",
    "\n",
    "# Calculate the performance score (accuracy)\n",
    "svm_score = accuracy_score(y_test, y_pred)\n",
    "\n",
    "# Print the performance score\n",
    "print(\"Performance score:\", svm_score)\n"
   ]
  },
  {
   "cell_type": "markdown",
   "metadata": {
    "id": "pNS_xztymFIN"
   },
   "source": [
    "### KNeighborsClassifier"
   ]
  },
  {
   "cell_type": "code",
   "execution_count": 27,
   "metadata": {
    "colab": {
     "base_uri": "https://localhost:8080/"
    },
    "id": "s3RmNoFvmFIN",
    "outputId": "1363a56c-24aa-4de5-d64b-d3cd5e173b77",
    "tags": []
   },
   "outputs": [
    {
     "name": "stdout",
     "output_type": "stream",
     "text": [
      "Performance score: 0.822\n"
     ]
    }
   ],
   "source": [
    "from sklearn.neighbors import KNeighborsClassifier\n",
    "\n",
    "\n",
    "# Create a KNN classifier\n",
    "knn = KNeighborsClassifier()\n",
    "\n",
    "# Train the model\n",
    "knn.fit(X_train, y_train)\n",
    "\n",
    "# Make predictions on the test set\n",
    "y_pred = knn.predict(X_test)\n",
    "\n",
    "# Calculate the performance score (accuracy)\n",
    "knn_score = accuracy_score(y_test, y_pred)\n",
    "\n",
    "# Print the performance score\n",
    "print(\"Performance score:\", knn_score)\n"
   ]
  },
  {
   "cell_type": "code",
   "execution_count": 28,
   "metadata": {
    "colab": {
     "base_uri": "https://localhost:8080/",
     "height": 492
    },
    "id": "ax9UTiYCmFIN",
    "outputId": "391e3b43-fb95-46aa-b7da-8f6275d47015",
    "tags": []
   },
   "outputs": [
    {
     "data": {
      "image/png": "[encoded data removed]",
      "text/plain": [
       "<Figure size 640x480 with 1 Axes>"
      ]
     },
     "metadata": {},
     "output_type": "display_data"
    }
   ],
   "source": [
    "import matplotlib.pyplot as plt\n",
    "\n",
    "\n",
    "scores = pd.DataFrame({'Model': ['LinR', 'LogR', 'DTC', 'RanF', 'KNN', 'SVM'], 'Score': [ linr_score, logr_score, dtc_score, rf_score,knn_score, svm_score]})\n",
    "\n",
    "# Plot the bar graph\n",
    "scores.plot(x='Model', y='Score', kind='bar')\n",
    "plt.xlabel('Model')\n",
    "plt.ylabel('Score')\n",
    "plt.title('Comparison of performance score')\n",
    "plt.show()"
   ]
  },
  {
   "cell_type": "markdown",
   "metadata": {
    "id": "fIs5vci1Uvgi"
   },
   "source": [
    "### Predict with the given values"
   ]
  },
  {
   "cell_type": "code",
   "execution_count": 29,
   "metadata": {
    "colab": {
     "base_uri": "https://localhost:8080/"
    },
    "id": "31L0RweeMznH",
    "outputId": "51bc8b87-49b2-414c-be85-5e37487e449e",
    "tags": []
   },
   "outputs": [
    {
     "name": "stdout",
     "output_type": "stream",
     "text": [
      "Predicted value: healthy\n"
     ]
    },
    {
     "name": "stderr",
     "output_type": "stream",
     "text": [
      "D:\\ML\\timer\\Lib\\site-packages\\sklearn\\base.py:465: UserWarning: X does not have valid feature names, but DecisionTreeClassifier was fitted with feature names\n",
      "  warnings.warn(\n"
     ]
    }
   ],
   "source": [
    "\n",
    "new_data = np.array([[38.5, 20.2, 16.0, 5004.0, 4.6, 5.0, 55.0, 2.5, 12.5, 4.4, 2.0]])\n",
    "\n",
    "prediction = dt.predict(new_data)\n",
    "# note: predicted value should be healthy\n",
    "\n",
    "result = 'healthy' if prediction[0] == 1 else 'unhealthy'\n",
    "print(\"Predicted value:\", result)\n"
   ]
  },
  {
   "cell_type": "markdown",
   "metadata": {
    "id": "fHaHo0yMX5VO"
   },
   "source": [
    "## note: Select up or down cell and delete other"
   ]
  },
  {
   "cell_type": "markdown",
   "metadata": {
    "id": "zhH7ta6YaVAJ"
   },
   "source": [
    "Saving the trained model"
   ]
  },
  {
   "cell_type": "code",
   "execution_count": 34,
   "metadata": {
    "id": "G0-sAdavaWSp",
    "tags": []
   },
   "outputs": [],
   "source": [
    "import pickle\n"
   ]
  },
  {
   "cell_type": "code",
   "execution_count": 35,
   "metadata": {
    "id": "UKucr4m9aZb6",
    "tags": []
   },
   "outputs": [],
   "source": [
    "with open('random_forest_model.sav', 'wb') as file:\n",
    "    pickle.dump(rf, file)"
   ]
  },
  {
   "cell_type": "code",
   "execution_count": 36,
   "metadata": {
    "id": "Du7yBHD9cBCu",
    "tags": []
   },
   "outputs": [],
   "source": [
    "# loading the saved model\n",
    "loaded_model = pickle.load(open('random_forest_model.sav', 'rb'))"
   ]
  },
  {
   "cell_type": "code",
   "execution_count": 37,
   "metadata": {
    "colab": {
     "base_uri": "https://localhost:8080/"
    },
    "id": "g3XuEP4jcFTo",
    "outputId": "3027c47a-712e-4127-8033-51e6844d4aaa",
    "tags": []
   },
   "outputs": [
    {
     "name": "stdout",
     "output_type": "stream",
     "text": [
      "[1]\n",
      "The Cow is Healthy\n"
     ]
    },
    {
     "name": "stderr",
     "output_type": "stream",
     "text": [
      "D:\\ML\\timer\\Lib\\site-packages\\sklearn\\base.py:465: UserWarning: X does not have valid feature names, but RandomForestClassifier was fitted with feature names\n",
      "  warnings.warn(\n"
     ]
    }
   ],
   "source": [
    "\n",
    "input_data = (38.5, 20.2, 16.0, 5004.0, 4.6, 5.0, 55.0, 2.5, 12.5, 4.4, 2.0)\n",
    "\n",
    "# changing the input_data to numpy array\n",
    "input_data_as_numpy_array = np.asarray(input_data)\n",
    "\n",
    "# reshape the array as we are predicting for one instance\n",
    "input_data_reshaped = input_data_as_numpy_array.reshape(1,-1)\n",
    "\n",
    "prediction = loaded_model.predict(input_data_reshaped)\n",
    "print(prediction)\n",
    "\n",
    "if (prediction[0] == 0):\n",
    "  print('The Cow has some abnormality')\n",
    "else:\n",
    "  print('The Cow is Healthy')"
   ]
  },
  {
   "cell_type": "code",
   "execution_count": null,
   "metadata": {
    "id": "ojH-KVGdcSuW"
   },
   "outputs": [],
   "source": []
  }
 ],
 "metadata": {
  "colab": {
   "provenance": []
  },
  "kernelspec": {
   "display_name": "mykernal",
   "language": "python",
   "name": "mykernal"
  },
  "language_info": {
   "codemirror_mode": {
    "name": "ipython",
    "version": 3
   },
   "file_extension": ".py",
   "mimetype": "text/x-python",
   "name": "python",
   "nbconvert_exporter": "python",
   "pygments_lexer": "ipython3",
   "version": "3.11.5"
  }
 },
 "nbformat": 4,
 "nbformat_minor": 4
}
