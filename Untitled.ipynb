{
 "cells": [
  {
   "cell_type": "code",
   "execution_count": 2,
   "id": "1f360f98-7e5f-4047-b606-678d3cf57304",
   "metadata": {
    "tags": []
   },
   "outputs": [
    {
     "name": "stderr",
     "output_type": "stream",
     "text": [
      "D:\\ML\\timer\\Lib\\site-packages\\sklearn\\base.py:348: InconsistentVersionWarning: Trying to unpickle estimator SVC from version 1.2.2 when using version 1.3.2. This might lead to breaking code or invalid results. Use at your own risk. For more info please refer to:\n",
      "https://scikit-learn.org/stable/model_persistence.html#security-maintainability-limitations\n",
      "  warnings.warn(\n",
      "2023-12-03 18:43:39.699 \n",
      "  \u001b[33m\u001b[1mWarning:\u001b[0m to view this Streamlit app on a browser, run it with the following\n",
      "  command:\n",
      "\n",
      "    streamlit run D:\\ML\\timer\\Lib\\site-packages\\ipykernel_launcher.py [ARGUMENTS]\n"
     ]
    }
   ],
   "source": [
    "# -*- coding: utf-8 -*-\n",
    "\"\"\"\n",
    "Created on Fri Dec  1 12:10:22 2023\n",
    "\n",
    "@author: gauta\n",
    "\"\"\"\n",
    "\n",
    "import numpy as np\n",
    "import pickle\n",
    "import streamlit as st\n",
    "\n",
    "loaded_model = pickle.load(open('old/trained_model.sav', 'rb'))\n",
    "\n",
    "def diabates_prediction(input_data):\n",
    "    # changing the input_data to numpy array\n",
    "    input_data_as_numpy_array = np.asarray(input_data)\n",
    "\n",
    "    # reshape the array as we are predicting for one instance\n",
    "    input_data_reshaped = input_data_as_numpy_array.reshape(1,-1)\n",
    "\n",
    "    prediction = loaded_model.predict(input_data_reshaped)\n",
    "    print(prediction)\n",
    "\n",
    "    if (prediction[0] == 0):\n",
    "       return 'The person is not diabetic'\n",
    "    else:\n",
    "       return 'The person is diabetic' \n",
    "   \n",
    "\n",
    "def main():\n",
    "    \n",
    "    # Giving a title \n",
    "    st.title(\"Diabetes Prediction web App\")\n",
    "    \n",
    "  \t\n",
    "    #About getting the in\n",
    "    Pregnancies = st.text_input('Number of Prefnancies')\n",
    "    Glucose = st.text_input(\"Glucose Level\")\n",
    "    BloodPressure = st.text_input('Blood Pressure level')\n",
    "    SkinThickness = st.text_input('Skin thinkness value')\n",
    "    Insulin = st.text_input('Insluin value')\n",
    "    BMI = st.text_input('BMI value')\n",
    "    DiabetesPedigreeFunction = st.text_input('DiabetesPedigree : ')\n",
    "    Age = st.text_input('Age of the person')\n",
    "\t\n",
    "    \n",
    "    #code for prediction\n",
    "    diagnosis =  ''\n",
    "    \n",
    "    #creating the button for prediction\n",
    "    if st.button('Diabatic Test Result '):\n",
    "        diagnosis = diabates_prediction([Pregnancies,Glucose,BloodPressure,SkinThickness,Insulin,BMI, DiabetesPedigreeFunction,Age])\n",
    "        \n",
    "    st.success(diagnosis)\n",
    "    \n",
    "if __name__ == '__main__' :\n",
    "    main()\n",
    "    \n"
   ]
  },
  {
   "cell_type": "code",
   "execution_count": null,
   "id": "022c8d85-3801-46d5-9091-a4db7d516780",
   "metadata": {},
   "outputs": [],
   "source": []
  },
  {
   "cell_type": "code",
   "execution_count": null,
   "id": "19c3f8b0-a92e-4644-b27b-7c8f965e087a",
   "metadata": {},
   "outputs": [],
   "source": []
  }
 ],
 "metadata": {
  "kernelspec": {
   "display_name": "mykernal",
   "language": "python",
   "name": "mykernal"
  },
  "language_info": {
   "codemirror_mode": {
    "name": "ipython",
    "version": 3
   },
   "file_extension": ".py",
   "mimetype": "text/x-python",
   "name": "python",
   "nbconvert_exporter": "python",
   "pygments_lexer": "ipython3",
   "version": "3.11.5"
  }
 },
 "nbformat": 4,
 "nbformat_minor": 5
}
